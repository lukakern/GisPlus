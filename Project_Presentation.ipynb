{
 "cells": [
  {
   "cell_type": "markdown",
   "metadata": {
    "slideshow": {
     "slide_type": "slide"
    }
   },
   "source": [
    "# GIS+ Project Rasterizer"
   ]
  },
  {
   "cell_type": "markdown",
   "metadata": {
    "slideshow": {
     "slide_type": "slide"
    }
   },
   "source": [
    "<div class=\"alert alert-success\"><br>**TASK:** Write a function *rasterizer* which will turn a list of geometries into a 2D numpy array. The user should at least be able to pass the cell size to your function.<br></div>"
   ]
  },
  {
   "cell_type": "markdown",
   "metadata": {
    "slideshow": {
     "slide_type": "slide"
    }
   },
   "source": [
    "<div class=\"alert alert-danger\"><ul>\n",
    "**ISSUES:** \n",
    "    \n",
    "<li>Issue No.1</li>\n",
    "<li>Issue No.2</li>\n",
    "</ul></div>"
   ]
  },
  {
   "cell_type": "code",
   "execution_count": 2,
   "metadata": {
    "slideshow": {
     "slide_type": "slide"
    }
   },
   "outputs": [
    {
     "ename": "OSError",
     "evalue": "no such file or directory: 'shps/cities.shp'",
     "output_type": "error",
     "traceback": [
      "\u001b[0;31m---------------------------------------------------------------------------\u001b[0m",
      "\u001b[0;31mOSError\u001b[0m                                   Traceback (most recent call last)",
      "\u001b[0;32m<ipython-input-2-db0a9c720b62>\u001b[0m in \u001b[0;36m<module>\u001b[0;34m()\u001b[0m\n\u001b[1;32m    131\u001b[0m rasterizer(filepath=\"shps/cities.shp\",\n\u001b[1;32m    132\u001b[0m            \u001b[0mpixels\u001b[0m\u001b[0;34m=\u001b[0m\u001b[0;36m1000\u001b[0m\u001b[0;34m,\u001b[0m\u001b[0;34m\u001b[0m\u001b[0m\n\u001b[0;32m--> 133\u001b[0;31m            outputname=\"cities.tiff\")\n\u001b[0m",
      "\u001b[0;32m<ipython-input-2-db0a9c720b62>\u001b[0m in \u001b[0;36mrasterizer\u001b[0;34m(filepath, buffer, pixels, outputname)\u001b[0m\n\u001b[1;32m     26\u001b[0m     \u001b[0;31m# now use the shape function of Shapely\u001b[0m\u001b[0;34m\u001b[0m\u001b[0;34m\u001b[0m\u001b[0m\n\u001b[1;32m     27\u001b[0m     geometry_coll = spg.collection.GeometryCollection(\n\u001b[0;32m---> 28\u001b[0;31m         \u001b[0;34m[\u001b[0m\u001b[0mshape\u001b[0m\u001b[0;34m(\u001b[0m\u001b[0mpol\u001b[0m\u001b[0;34m[\u001b[0m\u001b[0;34m'geometry'\u001b[0m\u001b[0;34m]\u001b[0m\u001b[0;34m)\u001b[0m \u001b[0;32mfor\u001b[0m \u001b[0mpol\u001b[0m \u001b[0;32min\u001b[0m \u001b[0mfiona\u001b[0m\u001b[0;34m.\u001b[0m\u001b[0mopen\u001b[0m\u001b[0;34m(\u001b[0m\u001b[0mfilepath\u001b[0m\u001b[0;34m)\u001b[0m\u001b[0;34m]\u001b[0m\u001b[0;34m\u001b[0m\u001b[0m\n\u001b[0m\u001b[1;32m     29\u001b[0m     )\n\u001b[1;32m     30\u001b[0m \u001b[0;34m\u001b[0m\u001b[0m\n",
      "\u001b[0;32m/Applications/anaconda3/envs/py36/lib/python3.6/site-packages/fiona/__init__.py\u001b[0m in \u001b[0;36mopen\u001b[0;34m(path, mode, driver, schema, crs, encoding, layer, vfs, enabled_drivers, crs_wkt)\u001b[0m\n\u001b[1;32m    160\u001b[0m                 \u001b[0;32mraise\u001b[0m \u001b[0mIOError\u001b[0m\u001b[0;34m(\u001b[0m\u001b[0;34m\"no such archive file: %r\"\u001b[0m \u001b[0;34m%\u001b[0m \u001b[0marchive\u001b[0m\u001b[0;34m)\u001b[0m\u001b[0;34m\u001b[0m\u001b[0m\n\u001b[1;32m    161\u001b[0m         \u001b[0;32melif\u001b[0m \u001b[0mpath\u001b[0m \u001b[0;34m!=\u001b[0m \u001b[0;34m'-'\u001b[0m \u001b[0;32mand\u001b[0m \u001b[0;32mnot\u001b[0m \u001b[0mos\u001b[0m\u001b[0;34m.\u001b[0m\u001b[0mpath\u001b[0m\u001b[0;34m.\u001b[0m\u001b[0mexists\u001b[0m\u001b[0;34m(\u001b[0m\u001b[0mpath\u001b[0m\u001b[0;34m)\u001b[0m\u001b[0;34m:\u001b[0m\u001b[0;34m\u001b[0m\u001b[0m\n\u001b[0;32m--> 162\u001b[0;31m             \u001b[0;32mraise\u001b[0m \u001b[0mIOError\u001b[0m\u001b[0;34m(\u001b[0m\u001b[0;34m\"no such file or directory: %r\"\u001b[0m \u001b[0;34m%\u001b[0m \u001b[0mpath\u001b[0m\u001b[0;34m)\u001b[0m\u001b[0;34m\u001b[0m\u001b[0m\n\u001b[0m\u001b[1;32m    163\u001b[0m         c = Collection(path, mode, driver=driver, encoding=encoding,\n\u001b[1;32m    164\u001b[0m                        \u001b[0mlayer\u001b[0m\u001b[0;34m=\u001b[0m\u001b[0mlayer\u001b[0m\u001b[0;34m,\u001b[0m \u001b[0mvsi\u001b[0m\u001b[0;34m=\u001b[0m\u001b[0mvsi\u001b[0m\u001b[0;34m,\u001b[0m \u001b[0marchive\u001b[0m\u001b[0;34m=\u001b[0m\u001b[0marchive\u001b[0m\u001b[0;34m,\u001b[0m\u001b[0;34m\u001b[0m\u001b[0m\n",
      "\u001b[0;31mOSError\u001b[0m: no such file or directory: 'shps/cities.shp'"
     ]
    }
   ],
   "source": [
    "import fiona\n",
    "import matplotlib.pyplot as plt\n",
    "import numpy as np\n",
    "import shapely.geometry as spg\n",
    "from shapely.geometry import shape\n",
    "import skimage as sk\n",
    "from skimage import external, io, exposure\n",
    "\n",
    "def rasterizer(\n",
    "        filepath = \"../../pyCharmTest/venv/data/muenster_stands/stands.shp\",\n",
    "        buffer = 20,\n",
    "        pixels = 1,\n",
    "        outputname = \"output.tiff\"\n",
    "    ):\n",
    "    '''\n",
    "    description of function\n",
    "\n",
    "    buffer: Please enter a buffer value for the minimum bounding box:\n",
    "    resolution: Please enter a value for the resolution (the lower the higher is the resolution):\n",
    "    :return:\n",
    "    '''\n",
    "\n",
    "    ## if filepath = \"\" (empty) random vectordata will be created and transformed to a raster layer\n",
    "\n",
    "    ## shapely is only abount geometry, it does not deal with any coordinate reference system (CRS)!\n",
    "    # now use the shape function of Shapely\n",
    "    geometry_coll = spg.collection.GeometryCollection(\n",
    "        [shape(pol['geometry']) for pol in fiona.open(filepath)]\n",
    "    )\n",
    "\n",
    "    # create attribute values for geometries\n",
    "\n",
    "    #attributes = [np.random.randint(0, 255) for i in\n",
    "    #              range(0, len(geometry_coll))]\n",
    "\n",
    "    # join geometry and their attributes\n",
    "    #geom_attr = list(zip(geometry_coll, attributes))\n",
    "\n",
    "\n",
    "    # cornerstones of bounding box\n",
    "    bbox = geometry_coll.bounds\n",
    "\n",
    "    x_range = round(bbox[0]) - round(bbox[2])\n",
    "    #y_range = round(bbox[3]) - round(bbox[1])\n",
    "\n",
    "    resolution = x_range/pixels\n",
    "\n",
    "    # implemented buffer frame around the geometries\n",
    "    bbox_plus_buffer = []  # implemented buffer\n",
    "    [bbox_plus_buffer.append(bbox[i] - float(buffer)) for i in (0, 1)]\n",
    "    [bbox_plus_buffer.append(bbox[i] + float(buffer)) for i in (2, 3)]\n",
    "\n",
    "    x_min = round(bbox_plus_buffer[0])\n",
    "    x_max = round(bbox_plus_buffer[2])\n",
    "    y_min = round(bbox_plus_buffer[1])\n",
    "    y_max = round(bbox_plus_buffer[3])\n",
    "\n",
    "    # create a grid for the geometry bounding box\n",
    "    geom_y, geom_x = np.mgrid[y_min:y_max:float(resolution),\n",
    "                     x_min:x_max:float(resolution)]\n",
    "\n",
    "    # create a point geometry for every grid cell\n",
    "    geom_pixels = []\n",
    "    for i in range(0, len(geom_x[:, 1])):\n",
    "        for j in range(0, len(geom_x[1, :])):\n",
    "            geom_pixels.append(spg.Point([geom_x[i, j], geom_y[i, j]]))\n",
    "\n",
    "    # check if the pixel/point lies within one of the geometries (separately)\n",
    "    within_list = []\n",
    "    for i in range(0, len(geometry_coll)):\n",
    "        if (isinstance(geometry_coll[i], spg.polygon.Polygon)):\n",
    "            step = [pixel.within(geometry_coll[i]) for pixel in geom_pixels]\n",
    "        if (isinstance(geometry_coll[i], spg.point.Point)):\n",
    "            step = [pixel.x == round(geometry_coll[i].x) and\n",
    "                    pixel.y == round(geometry_coll[i].y)\n",
    "                    for pixel in geom_pixels]\n",
    "        if (isinstance(geometry_coll[i], spg.linestring.LineString)):\n",
    "            step = [pixel.within(geometry_coll[i].buffer(float(resolution)))\n",
    "                    for pixel in geom_pixels]\n",
    "        within_list.append(step)\n",
    "\n",
    "    len(within_list[0])\n",
    "\n",
    "    # for every True in of the within list the attribute of the geometry is taken\n",
    "    for i in range(0, len(geometry_coll)):\n",
    "        for j in range(0, len(within_list[0])):\n",
    "           if within_list[i][j] == 1:\n",
    "                within_list[i][j] = 1\n",
    "           if within_list[i][j] == 0:\n",
    "                within_list[i][j] = 0\n",
    "\n",
    "\n",
    "    # check for geometry attribute\n",
    "    for i in range(0, len(geometry_coll)):\n",
    "        print(\"Geometry {} contains attribute value: {}\".format(i, np.unique(\n",
    "            within_list[i])[-1]))\n",
    "\n",
    "    # join separate within_list 's. If overlapping: add attribute values\n",
    "    for i in range(1, len(geometry_coll)):\n",
    "        for j in range(0, len(within_list[0])):\n",
    "            within_list[0][j] = within_list[0][j] + within_list[i][j]\n",
    "\n",
    "\n",
    "    # write in single list\n",
    "    within_list_sum = within_list[0]\n",
    "\n",
    "    ## set radiometric resolution to 8bit\n",
    "    within_list_sum = np.round_(255 * (np.true_divide(within_list_sum, max(within_list_sum))))\n",
    "\n",
    "    # check for geometry attributes\n",
    "    print(\"Attribute values of geometries: \", np.unique(within_list_sum))\n",
    "\n",
    "    # create sublists every nth step\n",
    "    size = len(geom_x[1, :])\n",
    "    within_list_sub = [within_list_sum[i:i + size] for i in\n",
    "                       range(0, len(within_list_sum), size)]\n",
    "\n",
    "    # create numpy array from the prepared list\n",
    "    within_array = np.array(within_list_sub, dtype='uint8')\n",
    "\n",
    "    # flip array for correct presentation\n",
    "    flipped_array = np.flipud(within_array)\n",
    "    #plt.imshow(flipped_array, plt.cm.gray)\n",
    "    #plt.show()\n",
    "\n",
    "    ##write image data to tiff file\n",
    "    sk.external.tifffile.imsave(outputname, flipped_array)\n",
    "\n",
    "\n",
    "#rasterizer()\n",
    "rasterizer(filepath=\"shps/cities.shp\",\n",
    "           pixels=1000,\n",
    "           outputname=\"cities.tiff\")\n"
   ]
  },
  {
   "cell_type": "code",
   "execution_count": null,
   "metadata": {},
   "outputs": [],
   "source": []
  }
 ],
 "metadata": {
  "celltoolbar": "Slideshow",
  "kernelspec": {
   "display_name": "Python 3",
   "language": "python",
   "name": "python3"
  },
  "language_info": {
   "codemirror_mode": {
    "name": "ipython",
    "version": 3
   },
   "file_extension": ".py",
   "mimetype": "text/x-python",
   "name": "python",
   "nbconvert_exporter": "python",
   "pygments_lexer": "ipython3",
   "version": "3.5.5"
  }
 },
 "nbformat": 4,
 "nbformat_minor": 2
}
